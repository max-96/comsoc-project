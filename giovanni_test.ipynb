{
 "cells": [
  {
   "cell_type": "code",
   "execution_count": null,
   "metadata": {},
   "outputs": [],
   "source": [
    "import numpy as np\n",
    "from apportion import largest_remainder\n",
    "import random\n",
    "from tqdm import tqdm\n",
    "import matplotlib.pyplot as plt\n",
    "from matplotlib import cm\n",
    "from matplotlib.ticker import LinearLocator, FormatStrFormatter"
   ]
  },
  {
   "cell_type": "code",
   "execution_count": null,
   "metadata": {},
   "outputs": [],
   "source": [
    "fig = plt.figure()\n",
    "ax = fig.gca(projection='3d', zlabel='KL', xlabel='alpha', ylabel='beta')\n",
    "\n",
    "x = np.linspace(1, 3)\n",
    "y = np.linspace(0, 1)\n",
    "print(x,y)\n",
    "x, y=np.meshgrid(x,y)\n",
    "z = (x**2 + y**2)\n",
    "surf = ax.plot_surface(x, y, z, cmap=cm.coolwarm,\n",
    "                       linewidth=0, antialiased=False)\n",
    "\n"
   ]
  },
  {
   "cell_type": "code",
   "execution_count": null,
   "metadata": {},
   "outputs": [],
   "source": [
    "%load_ext autoreload\n",
    "%autoreload 2\n",
    "\n",
    "\n",
    "import numpy as np\n",
    "import pipeline\n",
    "import logging\n",
    "logging.basicConfig(\n",
    "    format='%(asctime)s %(levelname)-8s %(message)s',\n",
    "    level=logging.INFO,\n",
    "    datefmt='%Y-%m-%d %H:%M:%S')\n",
    "\n",
    "n_tests = 5\n",
    "steps = 5\n",
    "m = 20\n",
    "n = 10000\n",
    "seats = 100\n",
    "electoral_threshold = 0.05\n",
    "# poll_covid = 0.01\n",
    "political_spectrum = np.array([10, 9, 11, 8, 12, 7, 13, 6, 14, 5, 15, 4, 16, 3, 17, 2, 18, 1, 19, 0])\n",
    "# (gammas, betas), results = pipeline.test_gamma_beta(electoral_threshold, m, n, n_tests, political_spectrum, seats)\n",
    "(gammas, betas), results2 = pipeline.test_gamma_beta_parallel(electoral_threshold, m, n, n_tests, political_spectrum, seats, steps)\n"
   ]
  },
  {
   "cell_type": "code",
   "execution_count": null,
   "metadata": {},
   "outputs": [],
   "source": [
    "gammas"
   ]
  },
  {
   "cell_type": "code",
   "execution_count": null,
   "metadata": {},
   "outputs": [],
   "source": [
    "%matplotlib notebook\n",
    "from matplotlib.ticker import FormatStrFormatter\n",
    "fig = plt.figure()\n",
    "ax = fig.gca(projection='3d', zlabel='$KL$', xlabel='$\\gamma$', ylabel=r'$\\beta$', title=\"sntv\", zlim=(0, 3.5))\n",
    "temp = np.log10(gammas)[0,:]\n",
    "\n",
    "ax.set_xticks(temp) \n",
    "ax.set_xticklabels(np.around(gammas[0,:], decimals=4))\n",
    "# ax.xaxis.set_major_formatter(FormatStrFormatter('%.2f'))\n",
    "\n",
    "\n",
    "surf = ax.plot_surface(np.around(temp, decimals=4), betas, results2['sntv'], cmap=cm.coolwarm,\n",
    "                       linewidth=0, antialiased=True, label='sntv')"
   ]
  },
  {
   "cell_type": "code",
   "execution_count": null,
   "metadata": {},
   "outputs": [],
   "source": [
    "# t = np.load('gamma-beta.npz')\n",
    "# betas = t['beta']\n",
    "# gammas = t['gamma']\n",
    "# results = {'sntv-l': t['sntvl']}"
   ]
  },
  {
   "cell_type": "code",
   "execution_count": null,
   "metadata": {},
   "outputs": [],
   "source": [
    "%matplotlib notebook\n",
    "fig = plt.figure()\n",
    "\n",
    "\n",
    "ax = fig.gca(projection='3d', zlabel='$KL$', xlabel='$\\gamma$', ylabel='$\\\\beta$', zlim=(0, 4))\n",
    "temp = np.log10(gammas)[0,:]\n",
    "ax.set_xticks(temp)\n",
    "alt_gamma = np.where(gammas[0,:]<0.004, np.around(gammas[0,:], decimals=4), np.around(gammas[0,:], decimals=2))\n",
    "ax.set_xticklabels(alt_gamma)\n",
    "surf = ax.plot_surface(temp, betas, results2['sntv-l'], cmap=cm.coolwarm,\n",
    "                       linewidth=0, antialiased=True, label='sntv-l')\n",
    "fig.colorbar(surf, shrink=0.5, aspect=5)"
   ]
  },
  {
   "cell_type": "code",
   "execution_count": null,
   "metadata": {},
   "outputs": [],
   "source": [
    "fig.savefig('ag-sntv-liars.pdf')"
   ]
  },
  {
   "cell_type": "code",
   "execution_count": null,
   "metadata": {},
   "outputs": [],
   "source": [
    "# %matplotlib notebook\n",
    "\n",
    "# fig = plt.figure()\n",
    "# ax = fig.gca(projection='3d', zlabel='$KL$', xlabel='$\\gamma$', ylabel='$\\\\beta$', title=\"sntv liars\")\n",
    "# temp = np.log10(gammas)[0,:]\n",
    "# ax.set_xticks(temp) \n",
    "# ax.set_xticklabels(gammas[0,:])\n",
    "# surf = ax.plot_surface(temo, gammas, (gammas+2)*betas, cmap=cm.coolwarm,\n",
    "#                        linewidth=0, antialiased=True, label='sntv-l')\n"
   ]
  },
  {
   "cell_type": "code",
   "execution_count": null,
   "metadata": {},
   "outputs": [],
   "source": [
    "%matplotlib notebook\n",
    "fig = plt.figure()\n",
    "ax = fig.gca(projection='3d', zlabel='$KL$', xlabel=r'$\\gamma$', ylabel=r'$\\beta$', title=\"stv\", zlim=(0, 3.5))\n",
    "temp = np.log10(gammas)[0,:]\n",
    "ax.set_xticks(temp) \n",
    "ax.set_xticklabels(np.around(gammas[0,:], decimals=4))\n",
    "\n",
    "surf = ax.plot_surface(temp, betas, results2['stv'] ,cmap=cm.coolwarm,\n",
    "                       linewidth=1, antialiased=True, label='stv')"
   ]
  },
  {
   "cell_type": "code",
   "execution_count": null,
   "metadata": {},
   "outputs": [],
   "source": [
    "# np.savez('gamma-beta2.npz', gamma=gammas, beta=betas, stv=results2['stv'], sntv=results2['sntv'], sntvl=results2['sntv-l'])"
   ]
  },
  {
   "cell_type": "code",
   "execution_count": null,
   "metadata": {},
   "outputs": [],
   "source": [
    "results2['stv'].std()"
   ]
  }
 ],
 "metadata": {
  "kernelspec": {
   "display_name": "Python 3",
   "language": "python",
   "name": "python3"
  },
  "language_info": {
   "codemirror_mode": {
    "name": "ipython",
    "version": 3
   },
   "file_extension": ".py",
   "mimetype": "text/x-python",
   "name": "python",
   "nbconvert_exporter": "python",
   "pygments_lexer": "ipython3",
   "version": "3.8.3"
  }
 },
 "nbformat": 4,
 "nbformat_minor": 4
}
