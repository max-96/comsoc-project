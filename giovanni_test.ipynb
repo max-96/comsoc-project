{
 "cells": [
  {
   "cell_type": "code",
   "execution_count": null,
   "metadata": {},
   "outputs": [],
   "source": [
    "import numpy as np\n",
    "from apportion import largest_remainder\n",
    "import random\n",
    "from tqdm import tqdm\n",
    "import matplotlib.pyplot as plt\n",
    "from matplotlib import cm\n",
    "from matplotlib.ticker import LinearLocator, FormatStrFormatter\n",
    "import numpy as np"
   ]
  },
  {
   "cell_type": "code",
   "execution_count": null,
   "metadata": {},
   "outputs": [],
   "source": [
    "def test_giovanni(votes: np.ndarray, seats: int):\n",
    "    quota = votes.sum() / (seats + 1)\n",
    "    outcome, remainders = np.divmod(votes, quota)\n",
    "    outcome = outcome.astype(int)\n",
    "    same = (remainders==0.)\n",
    "    saved = outcome[same]\n",
    "    remaining_seats = int(seats - outcome.sum())\n",
    "    # print(quota, outcome, remainders, same, saved, remaining_seats)\n",
    "    to_add = np.argpartition(-remainders, remaining_seats)[:remaining_seats]\n",
    "    outcome[to_add] += 1\n",
    "    return np.allclose(outcome[same], saved)\n",
    "\n",
    "for _ in tqdm(range(100000)):\n",
    "    m = random.randint(2, 10000)\n",
    "    seats = random.randint(1, 500)\n",
    "    votes = np.random.randint(5000, size=m)\n",
    "    if not test_giovanni(votes, seats):\n",
    "        print(m, seats, votes, votes.sum())\n",
    "        break"
   ]
  },
  {
   "cell_type": "code",
   "execution_count": null,
   "metadata": {},
   "outputs": [],
   "source": [
    "fig = plt.figure()\n",
    "ax = fig.gca(projection='3d', zlabel='KL', xlabel='alpha', ylabel='beta')\n",
    "\n",
    "x = np.linspace(1, 3)\n",
    "y = np.linspace(0, 1)\n",
    "print(x,y)\n",
    "x, y=np.meshgrid(x,y)\n",
    "z = (x**2 + y**2)\n",
    "surf = ax.plot_surface(x, y, z, cmap=cm.coolwarm,\n",
    "                       linewidth=0, antialiased=False)\n",
    "\n"
   ]
  },
  {
   "cell_type": "code",
   "execution_count": null,
   "metadata": {},
   "outputs": [],
   "source": [
    "%load_ext autoreload\n",
    "%autoreload 2\n",
    "\n",
    "\n",
    "import numpy as np\n",
    "import pipeline\n",
    "import logging\n",
    "logging.basicConfig(\n",
    "    format='%(asctime)s %(levelname)-8s %(message)s',\n",
    "    level=logging.INFO,\n",
    "    datefmt='%Y-%m-%d %H:%M:%S')\n",
    "\n",
    "n_tests = 3\n",
    "m = 20\n",
    "n = 10000\n",
    "seats = 100\n",
    "electoral_threshold = 0.05\n",
    "# poll_covid = 0.01\n",
    "political_spectrum = np.array([10, 9, 11, 8, 12, 7, 13, 6, 14, 5, 15, 4, 16, 3, 17, 2, 18, 1, 19, 0])\n",
    "# (gammas, betas), results = pipeline.test_gamma_beta(electoral_threshold, m, n, n_tests, political_spectrum, seats)\n",
    "(gammas, betas), results2 = pipeline.test_gamma_beta_parallel(electoral_threshold, m, n, n_tests, political_spectrum, seats, steps=5)\n"
   ]
  },
  {
   "cell_type": "code",
   "execution_count": null,
   "metadata": {},
   "outputs": [],
   "source": [
    "%matplotlib notebook\n",
    "fig = plt.figure()\n",
    "ax = fig.gca(projection='3d', zlabel='KL', xlabel='gamma', ylabel='beta', title=\"sntv\", zlim=(0, 3.5))\n",
    "\n",
    "surf = ax.plot_surface(gammas, betas, results2['sntv'], cmap=cm.coolwarm,\n",
    "                       linewidth=0, antialiased=True, label='sntv')"
   ]
  },
  {
   "cell_type": "code",
   "execution_count": null,
   "metadata": {},
   "outputs": [],
   "source": [
    "%matplotlib notebook\n",
    "fig = plt.figure()\n",
    "ax = fig.gca(projection='3d', zlabel='KL', xlabel='gamma', ylabel='beta', title=\"sntv liars\", zlim=(0, 3.5))\n",
    "\n",
    "surf = ax.plot_surface(gammas, betas, results2['sntv-l'], cmap=cm.coolwarm,\n",
    "                       linewidth=0, antialiased=True, label='sntv-l')"
   ]
  },
  {
   "cell_type": "code",
   "execution_count": null,
   "metadata": {},
   "outputs": [],
   "source": [
    "%matplotlib notebook\n",
    "fig = plt.figure()\n",
    "ax = fig.gca(projection='3d', zlabel='KL', xlabel='gamma', ylabel='beta', title=\"stv\", zlim=(0, 3.5))\n",
    "\n",
    "surf = ax.plot_surface(gammas, betas, results2['stv'],cmap=cm.coolwarm,\n",
    "                       linewidth=1, antialiased=True, label='stv')"
   ]
  },
  {
   "cell_type": "code",
   "execution_count": null,
   "metadata": {},
   "outputs": [],
   "source": [
    "np.savez('gamma-beta.npz', gamma=gammas, beta=betas, stv=results2['stv'], sntv=results2['sntv'])"
   ]
  }
 ],
 "metadata": {
  "kernelspec": {
   "display_name": "Python 3",
   "language": "python",
   "name": "python3"
  },
  "language_info": {
   "codemirror_mode": {
    "name": "ipython",
    "version": 3
   },
   "file_extension": ".py",
   "mimetype": "text/x-python",
   "name": "python",
   "nbconvert_exporter": "python",
   "pygments_lexer": "ipython3",
   "version": "3.8.2"
  }
 },
 "nbformat": 4,
 "nbformat_minor": 4
}
