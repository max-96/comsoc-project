{
 "cells": [
  {
   "cell_type": "code",
   "execution_count": null,
   "metadata": {},
   "outputs": [],
   "source": [
    "import numpy as np\n",
    "from apportion import largest_remainder\n",
    "import random\n",
    "from tqdm import tqdm"
   ]
  },
  {
   "cell_type": "code",
   "execution_count": null,
   "metadata": {},
   "outputs": [],
   "source": [
    "def test_giovanni(votes: np.ndarray, seats: int):\n",
    "    quota = votes.sum() / seats\n",
    "    outcome, remainders = np.divmod(votes, quota)\n",
    "    outcome = outcome.astype(int)\n",
    "    same = (remainders==0.)\n",
    "    saved = outcome[same]\n",
    "    remaining_seats = int(seats - outcome.sum())\n",
    "    # print(quota, outcome, remainders, same, saved, remaining_seats)\n",
    "    to_add = np.argpartition(-remainders, remaining_seats)[:remaining_seats]\n",
    "    outcome[to_add] += 1\n",
    "    return np.allclose(outcome[same], saved)\n",
    "\n",
    "for _ in tqdm(range(100000)):\n",
    "    m = random.randint(2, 10000)\n",
    "    seats = random.randint(1, 500)\n",
    "    votes = np.random.randint(5000, size=m)\n",
    "    if not test_giovanni(votes, seats):\n",
    "        print(m, seats, votes, votes.sum())\n",
    "        break"
   ]
  }
 ],
 "metadata": {
  "kernelspec": {
   "display_name": "Python 3",
   "language": "python",
   "name": "python3"
  },
  "language_info": {
   "codemirror_mode": {
    "name": "ipython",
    "version": 3
   },
   "file_extension": ".py",
   "mimetype": "text/x-python",
   "name": "python",
   "nbconvert_exporter": "python",
   "pygments_lexer": "ipython3",
   "version": "3.8.2"
  }
 },
 "nbformat": 4,
 "nbformat_minor": 4
}
