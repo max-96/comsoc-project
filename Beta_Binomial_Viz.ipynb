{
 "cells": [
  {
   "cell_type": "code",
   "execution_count": 7,
   "metadata": {},
   "outputs": [
    {
     "name": "stdout",
     "output_type": "stream",
     "text": [
      "The autoreload extension is already loaded. To reload it, use:\n",
      "  %reload_ext autoreload\n"
     ]
    }
   ],
   "source": [
    "%load_ext autoreload\n",
    "%autoreload 2\n",
    "%matplotlib inline\n",
    "import numpy as np\n",
    "from scipy.stats import betabinom\n",
    "import matplotlib.pyplot as plt\n",
    "from ipywidgets import interact, fixed, FloatSlider"
   ]
  },
  {
   "cell_type": "code",
   "execution_count": 13,
   "metadata": {},
   "outputs": [
    {
     "data": {
      "application/vnd.jupyter.widget-view+json": {
       "model_id": "beabd2455542435d91d6983d727e7c35",
       "version_major": 2,
       "version_minor": 0
      },
      "text/plain": [
       "interactive(children=(FloatSlider(value=0.5, description='a', max=10.0, min=0.1), FloatSlider(value=1.0, descr…"
      ]
     },
     "metadata": {},
     "output_type": "display_data"
    }
   ],
   "source": [
    "@interact(m=fixed(10), n=fixed(10000), a=FloatSlider(min=0.1, max=10, step=0.1, value=0.5), b=FloatSlider(min=0.1, max=10, step=0.1, value=1))\n",
    "def show_dist(m, n, a, b):\n",
    "    rvs = betabinom.rvs(m-1, a, b, size=n)\n",
    "    plt.hist(rvs, edgecolor='white')\n",
    "    plt.show()"
   ]
  },
  {
   "cell_type": "code",
   "execution_count": 14,
   "metadata": {},
   "outputs": [
    {
     "data": {
      "application/vnd.jupyter.widget-view+json": {
       "model_id": "2c28602304da496aa935a4eb077ac5e9",
       "version_major": 2,
       "version_minor": 0
      },
      "text/plain": [
       "interactive(children=(FloatSlider(value=0.5, description='a', max=10.0, min=0.1), FloatSlider(value=1.0, descr…"
      ]
     },
     "metadata": {},
     "output_type": "display_data"
    }
   ],
   "source": [
    "@interact(m=fixed(10), n=fixed(10000), a=FloatSlider(min=0.1, max=10, step=0.1, value=0.5), b=FloatSlider(min=0.1, max=10, step=0.1, value=1))\n",
    "def show_dist2(m, n, a, b):\n",
    "    rvs = betabinom.rvs(m-1, a, b, size=n)\n",
    "    out = np.bincount(rvs, minlength=m)/n\n",
    "    plt.plot(out)\n",
    "    plt.show()"
   ]
  },
  {
   "cell_type": "code",
   "execution_count": 18,
   "metadata": {},
   "outputs": [
    {
     "data": {
      "application/vnd.jupyter.widget-view+json": {
       "model_id": "230ec15dcacc47ca9bed42b3f0e0321a",
       "version_major": 2,
       "version_minor": 0
      },
      "text/plain": [
       "interactive(children=(FloatSlider(value=0.5, description='a', max=10.0, min=0.1), FloatSlider(value=1.0, descr…"
      ]
     },
     "metadata": {},
     "output_type": "display_data"
    }
   ],
   "source": [
    "@interact(m=fixed(10), n=fixed(10000), a=FloatSlider(min=0.1, max=10, step=0.1, value=0.5), b=FloatSlider(min=0.1, max=10, step=0.1, value=1))\n",
    "def show_dist3(m, n, a, b):\n",
    "    out = [betabinom.pmf(x, m-1, a, b) for x in range(m)]\n",
    "    plt.plot(out)"
   ]
  }
 ],
 "metadata": {
  "kernelspec": {
   "display_name": "Python 3",
   "language": "python",
   "name": "python3"
  },
  "language_info": {
   "codemirror_mode": {
    "name": "ipython",
    "version": 3
   },
   "file_extension": ".py",
   "mimetype": "text/x-python",
   "name": "python",
   "nbconvert_exporter": "python",
   "pygments_lexer": "ipython3",
   "version": "3.8.2"
  }
 },
 "nbformat": 4,
 "nbformat_minor": 4
}
