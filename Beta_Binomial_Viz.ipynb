{
 "cells": [
  {
   "cell_type": "code",
   "execution_count": null,
   "metadata": {},
   "outputs": [],
   "source": [
    "%load_ext autoreload\n",
    "%autoreload 2\n",
    "%matplotlib inline\n",
    "import numpy as np\n",
    "from scipy.stats import betabinom\n",
    "import matplotlib.pyplot as plt\n",
    "from ipywidgets import interact, fixed, FloatSlider"
   ]
  },
  {
   "cell_type": "code",
   "execution_count": null,
   "metadata": {},
   "outputs": [],
   "source": [
    "@interact(m=fixed(10), n=fixed(10000), a=FloatSlider(min=0.1, max=10, step=0.1, value=0.5), b=FloatSlider(min=0.1, max=10, step=0.1, value=1))\n",
    "def show_dist(m, n, a, b):\n",
    "    rvs = betabinom.rvs(m-1, a, b, size=n)\n",
    "    plt.hist(rvs, edgecolor='white')\n",
    "    plt.show()"
   ]
  },
  {
   "cell_type": "code",
   "execution_count": null,
   "metadata": {},
   "outputs": [],
   "source": [
    "@interact(m=fixed(10), n=fixed(10000), a=FloatSlider(min=0.1, max=10, step=0.1, value=0.5), b=FloatSlider(min=0.1, max=10, step=0.1, value=1))\n",
    "def show_dist2(m, n, a, b):\n",
    "    rvs = betabinom.rvs(m-1, a, b, size=n)\n",
    "    out = np.bincount(rvs, minlength=m)/n\n",
    "    plt.plot(out)\n",
    "    plt.show()"
   ]
  },
  {
   "cell_type": "code",
   "execution_count": null,
   "metadata": {},
   "outputs": [],
   "source": [
    "@interact(m=fixed(10), n=fixed(10000), a=FloatSlider(min=0.1, max=10, step=0.1, value=0.5), b=FloatSlider(min=0.1, max=10, step=0.1, value=1))\n",
    "def show_dist3(m, n, a, b):\n",
    "    out = [betabinom.pmf(x, m-1, a, b) for x in range(m)]\n",
    "    plt.plot(out)"
   ]
  }
 ],
 "metadata": {
  "kernelspec": {
   "display_name": "Python 3",
   "language": "python",
   "name": "python3"
  },
  "language_info": {
   "codemirror_mode": {
    "name": "ipython",
    "version": 3
   },
   "file_extension": ".py",
   "mimetype": "text/x-python",
   "name": "python",
   "nbconvert_exporter": "python",
   "pygments_lexer": "ipython3",
   "version": "3.8.2"
  }
 },
 "nbformat": 4,
 "nbformat_minor": 4
}
